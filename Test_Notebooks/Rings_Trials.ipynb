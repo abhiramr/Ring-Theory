{
 "cells": [
  {
   "cell_type": "code",
   "execution_count": 14,
   "metadata": {},
   "outputs": [],
   "source": [
    "def multmod(x,y,z):\n",
    "    return (x*y)%z"
   ]
  },
  {
   "cell_type": "code",
   "execution_count": 85,
   "metadata": {},
   "outputs": [],
   "source": [
    "def commu(set_ , modulo):\n",
    "    for i in range(0,len(set_)):\n",
    "        for j in range(0,len(set_)):\n",
    "            if multmod(set_[i],set_[j],modulo)!=multmod(set_[j],set_[i],modulo):\n",
    "                print(\"Not commutative\")\n",
    "                return\n",
    "    print(\"Commutative\")"
   ]
  },
  {
   "cell_type": "markdown",
   "metadata": {},
   "source": [
    "# MULTIPLICATIVE IDENTITY"
   ]
  },
  {
   "cell_type": "code",
   "execution_count": 47,
   "metadata": {},
   "outputs": [],
   "source": [
    "def mul_iden(set_ , modulo):\n",
    "    for i in range(0,len(set_)):\n",
    "        yes = True\n",
    "        for j in range(0,len(set_)):\n",
    "            if multmod(set_[j],set_[i],modulo)!=set_[j]:\n",
    "                yes = False\n",
    "                break\n",
    "        if yes:\n",
    "            iden = set_[i]\n",
    "            print(\"M.I = {}\".format(iden))\n",
    "            return iden\n",
    "    print(\"No Inverse\")\n",
    "    return None\n"
   ]
  },
  {
   "cell_type": "code",
   "execution_count": 82,
   "metadata": {},
   "outputs": [
    {
     "name": "stdout",
     "output_type": "stream",
     "text": [
      "M.I = 4\n",
      "M.I = 1\n",
      "M.I = 6\n",
      "No Inverse\n"
     ]
    }
   ],
   "source": [
    "mul_iden([0,2,4],6)\n",
    "mul_iden([0,1,2,3,4,5,6,7],8)\n",
    "mul_iden([0,2,4,6,8],10)\n",
    "mul_iden([0,2,4,6],8)"
   ]
  },
  {
   "cell_type": "markdown",
   "metadata": {},
   "source": [
    "# To check in a ring if non-zero elements are multiplicatively invertible"
   ]
  },
  {
   "cell_type": "code",
   "execution_count": 49,
   "metadata": {},
   "outputs": [],
   "source": [
    "def mult_invertible(set_, modulo):\n",
    "    e = mul_iden(set_,modulo)\n",
    "    if e is not None: \n",
    "        for i in range(1,len(set_)):\n",
    "            yes = False\n",
    "            for j in range(1,len(set_)):\n",
    "                if multmod(set_[j],set_[i],modulo) == e:\n",
    "                    yes = True\n",
    "                    break\n",
    "        if yes == False:\n",
    "            print(\"Not every non-zero element has a multiplicative inverse\")\n",
    "        else:\n",
    "            print(\"Every element has a multiplicative inverse\")\n",
    "            \n"
   ]
  },
  {
   "cell_type": "code",
   "execution_count": 83,
   "metadata": {},
   "outputs": [
    {
     "name": "stdout",
     "output_type": "stream",
     "text": [
      "M.I = 1\n",
      "Every element has a multiplicative inverse\n",
      "M.I = 6\n",
      "Every element has a multiplicative inverse\n",
      "M.I = 1\n",
      "Every element has a multiplicative inverse\n"
     ]
    }
   ],
   "source": [
    "mult_invertible([0,1,2,3,4],5)\n",
    "mult_invertible([0,2,4,6,8],10)\n",
    "mult_invertible([0,1,2,3],4)"
   ]
  },
  {
   "cell_type": "markdown",
   "metadata": {},
   "source": [
    "# Zero Divisors"
   ]
  },
  {
   "cell_type": "code",
   "execution_count": 76,
   "metadata": {},
   "outputs": [],
   "source": [
    "def zero_divisors(set_,modulo):\n",
    "    for i in range(1,len(set_)):\n",
    "        yes = True\n",
    "        for j in range(1,len(set_)):\n",
    "            if multmod(set_[j],set_[i],modulo) == 0:\n",
    "                yes = False\n",
    "                break\n",
    "        if yes == False:\n",
    "            print(\"False for No Zero Divisors. Zero divisors exist so the given ring is not an integral domain\")\n",
    "            return\n",
    "    if yes:\n",
    "        print(\"True for No Zero Divisors. No zero divisors exist so the given ring is an Integral domain\")"
   ]
  },
  {
   "cell_type": "code",
   "execution_count": 84,
   "metadata": {},
   "outputs": [
    {
     "name": "stdout",
     "output_type": "stream",
     "text": [
      "True for No Zero Divisors. No zero divisors exist so the given ring is an Integral domain\n",
      "False for No Zero Divisors. Zero divisors exist so the given ring is not an integral domain\n",
      "True for No Zero Divisors. No zero divisors exist so the given ring is an Integral domain\n",
      "False for No Zero Divisors. Zero divisors exist so the given ring is not an integral domain\n",
      "True for No Zero Divisors. No zero divisors exist so the given ring is an Integral domain\n"
     ]
    }
   ],
   "source": [
    "zero_divisors([0,1,2,3,4],5)\n",
    "zero_divisors([0,1,2,3,4,5],6)\n",
    "zero_divisors([0,1,2],3)\n",
    "zero_divisors([0,1,2,3],4)\n",
    "zero_divisors([0,2,4,6,8],10)"
   ]
  }
 ],
 "metadata": {
  "kernelspec": {
   "display_name": "Python 3",
   "language": "python",
   "name": "python3"
  },
  "language_info": {
   "codemirror_mode": {
    "name": "ipython",
    "version": 3
   },
   "file_extension": ".py",
   "mimetype": "text/x-python",
   "name": "python",
   "nbconvert_exporter": "python",
   "pygments_lexer": "ipython3",
   "version": "3.7.1"
  }
 },
 "nbformat": 4,
 "nbformat_minor": 2
}
